{
 "cells": [
  {
   "cell_type": "markdown",
   "metadata": {},
   "source": [
    "# <center>Network Science</center>"
   ]
  },
  {
   "cell_type": "markdown",
   "metadata": {},
   "source": [
    "## <center>Home Assignment #3: Centralities and Assortativity</center>"
   ]
  },
  {
   "cell_type": "markdown",
   "metadata": {},
   "source": [
    "### <center>Student: *Feygina Anastasia*</center>"
   ]
  },
  {
   "cell_type": "markdown",
   "metadata": {},
   "source": [
    "## Problems"
   ]
  },
  {
   "cell_type": "markdown",
   "metadata": {},
   "source": [
    "### Task 1"
   ]
  },
  {
   "cell_type": "markdown",
   "metadata": {},
   "source": [
    "Compute degree centrality, Pagerank and  HubAuthorities scores for the [flickr](https://www.hse.ru/data/2016/02/24/1139618969/flickr.mat) network. \n",
    "\n",
    "Data contains sparse matrix A and list of user names.\n",
    "This is a “denser” part of the Flickr photo sharing site friendship graph from 2006. Edge direction corresponds to friendship requests (following). Some of the links are reciprocal,others not.  \n",
    "\n",
    "Provide top 50 names in each ranking, compare results\n",
    "\n",
    "You can load .mat files with the following commands:"
   ]
  },
  {
   "cell_type": "code",
   "execution_count": 1,
   "metadata": {
    "collapsed": true
   },
   "outputs": [],
   "source": [
    "import numpy as np\n",
    "import matplotlib.pyplot as plt\n",
    "import networkx as nx\n",
    "%matplotlib inline\n",
    "import scipy.io\n",
    "import scipy.stats"
   ]
  },
  {
   "cell_type": "code",
   "execution_count": 2,
   "metadata": {
    "collapsed": false
   },
   "outputs": [],
   "source": [
    "data = scipy.io.loadmat('flickr.mat')\n",
    "G = nx.DiGraph(data['A'])"
   ]
  },
  {
   "cell_type": "markdown",
   "metadata": {},
   "source": [
    "Let's make a dictionary of node centrality scores"
   ]
  },
  {
   "cell_type": "code",
   "execution_count": 3,
   "metadata": {
    "collapsed": true
   },
   "outputs": [],
   "source": [
    "hits = nx.hits(G)\n",
    "centralities = {\"PR\": nx.pagerank(G), \"degrees\": nx.degree_centrality(G), \"hubs\": hits[0], \"authorities\": hits[1]}"
   ]
  },
  {
   "cell_type": "code",
   "execution_count": 4,
   "metadata": {
    "collapsed": false
   },
   "outputs": [],
   "source": [
    "def scored_nodes(centrality):\n",
    "    return np.array(list(centrality.items()))[:, 1].argsort()\n",
    "\n",
    "\n",
    "def print_table_top_50(data,centrality):\n",
    "    counter = 1\n",
    "    [print(data[\"names\"][n], centrality[n]) for n in scored_nodes(centrality)[::-1][:50]]"
   ]
  },
  {
   "cell_type": "markdown",
   "metadata": {},
   "source": [
    "Top 50 Nodes by Degree Centrality"
   ]
  },
  {
   "cell_type": "code",
   "execution_count": 5,
   "metadata": {
    "collapsed": false
   },
   "outputs": [
    {
     "name": "stdout",
     "output_type": "stream",
     "text": [
      "awfulsara                                            0.07810214335686574\n",
      "drp                                                  0.06023023596005852\n",
      "DrJoanne                                             0.055332951726769705\n",
      "antimethod                                           0.0545061375055651\n",
      "*Ivan*                                               0.051898492654073654\n",
      "BombDog                                              0.051644088278318394\n",
      "deborah lattimore                                    0.04490237232080392\n",
      "Simon Pais                                           0.04477517013292629\n",
      "cymagen                                              0.04261273293900655\n",
      "notraces                                             0.042358328563251293\n",
      "MaD GiÂ®Lâ¢â¢                                      0.04070470012084208\n",
      "aleyna                                               0.040068689181453926\n",
      "*starlet*                                            0.03962348152388222\n",
      "lorrainemd                                           0.03905107167843287\n",
      "Pandarine                                            0.038415060739044715\n",
      ":Nikola                                              0.03701583667239077\n",
      "artofgold                                            0.03701583667239077\n",
      "Mareen Fischinger                                    0.034535394008776955\n",
      "gu@va                                                0.03402658525726643\n",
      "Mylens                                               0.03396298416332761\n",
      "bernardo.borghetti                                   0.0335177765057559\n",
      "hot_luscious                                         0.03345417541181709\n",
      "romanlily                                            0.03332697322393945\n",
      "jkottke                                              0.03250015900273485\n",
      "pixietart                                            0.032309355720918406\n",
      "slowernet                                            0.03224575462697959\n",
      "anildash                                             0.030464923996692747\n",
      "pbowers                                              0.02925650321185525\n",
      "Joi                                                  0.02893849774216117\n",
      "fraying                                              0.028811295554283536\n",
      "naftalina007                                         0.02817528461489538\n",
      ".lush                                                0.027920880239140116\n",
      "Loobylu                                              0.027666475863384853\n",
      "Buntekuh                                             0.027602874769446038\n",
      "CherryVega                                           0.02728486929975196\n",
      "Gayla                                                0.027030464923996696\n",
      "jakedobkin                                           0.026903262736119066\n",
      "underbunny                                           0.026585257266424984\n",
      "Airchild                                             0.02639445398460854\n",
      "fd                                                   0.02639445398460854\n",
      "maximolly                                            0.026330852890669724\n",
      "* HoNe$t *                                           0.02607644851491446\n",
      "Sexy Swedish Babe                                    0.025758443045220382\n",
      "Ya Ya                                                0.02563124085734275\n",
      "kaneblues                                            0.025440437575526303\n",
      "Tsunami Notes                                        0.02531323538764867\n",
      "990000                                               0.02499522991795459\n",
      "overshadowed                                         0.024931628824015777\n",
      "good morning stradivari                              0.024740825542199328\n",
      "Tom Coates                                           0.024740825542199328\n"
     ]
    }
   ],
   "source": [
    "print_table_top_50(data, centralities[\"degrees\"])"
   ]
  },
  {
   "cell_type": "markdown",
   "metadata": {},
   "source": [
    "Top 50 Nodes by Page Rank"
   ]
  },
  {
   "cell_type": "code",
   "execution_count": 6,
   "metadata": {
    "collapsed": false
   },
   "outputs": [
    {
     "name": "stdout",
     "output_type": "stream",
     "text": [
      "awfulsara                                            0.00199610405778\n",
      "drp                                                  0.00143065428786\n",
      "antimethod                                           0.00134130573912\n",
      "BombDog                                              0.00130786447137\n",
      "*Ivan*                                               0.00119653145499\n",
      "MaD GiÂ®Lâ¢â¢                                      0.00114568667167\n",
      "DrJoanne                                             0.00108183726244\n",
      "Simon Pais                                           0.00105023759892\n",
      "deborah lattimore                                    0.00100485317875\n",
      "cymagen                                              0.000978077811919\n",
      ":Nikola                                              0.000945303448539\n",
      "notraces                                             0.000897546728982\n",
      "jkottke                                              0.000869255478289\n",
      "lorrainemd                                           0.000868380107082\n",
      "slowernet                                            0.000846029136463\n",
      "artofgold                                            0.00083998057114\n",
      "romanlily                                            0.000838621581718\n",
      "*starlet*                                            0.000828313847847\n",
      "Pandarine                                            0.000788792075563\n",
      "hot_luscious                                         0.000787797323928\n",
      "Mareen Fischinger                                    0.000725715491782\n",
      "underbunny                                           0.000715673068341\n",
      "fraying                                              0.000714393730807\n",
      "Mylens                                               0.000707379819527\n",
      "aleyna                                               0.00069577981141\n",
      "* HoNe$t *                                           0.000690321055836\n",
      "gu@va                                                0.000683405934096\n",
      "pbowers                                              0.000671681059489\n",
      "anildash                                             0.000665033770539\n",
      "Loobylu                                              0.000659246224747\n",
      "Joi                                                  0.000650322892022\n",
      "CherryVega                                           0.000645522671006\n",
      "Marcelo  Montecino                                   0.000627951890956\n",
      "bernardo.borghetti                                   0.000625067483019\n",
      "!!uAe prince!!                                       0.000622609984722\n",
      "Esther_G                                             0.000618483316901\n",
      "Departure Lounge                                     0.000616260593644\n",
      "gruntzooki                                           0.000603961098036\n",
      "Gayla                                                0.000595962302596\n",
      "Tom Coates                                           0.000593146815357\n",
      "maximolly                                            0.000588556156125\n",
      "chromogenic                                          0.000581678035185\n",
      "Agridulce                                            0.000564893861291\n",
      "naftalina007                                         0.000564306139349\n",
      "pixietart                                            0.000564131485691\n",
      "aquanerds                                            0.000560517940184\n",
      "overshadowed                                         0.000558974198583\n",
      ".lush                                                0.000554442236187\n",
      "jakedobkin                                           0.000542802605983\n",
      "fd                                                   0.00054116363531\n"
     ]
    }
   ],
   "source": [
    "print_table_top_50(data, centralities[\"PR\"])"
   ]
  },
  {
   "cell_type": "markdown",
   "metadata": {},
   "source": [
    "Top 50 Nodes by Hubs score"
   ]
  },
  {
   "cell_type": "code",
   "execution_count": 7,
   "metadata": {
    "collapsed": false
   },
   "outputs": [
    {
     "name": "stdout",
     "output_type": "stream",
     "text": [
      "mrpiink                                              0.000589060455139\n",
      "automat                                              0.000585837904157\n",
      "schizoo23                                            0.000577658016738\n",
      "lorrainemd                                           0.00055872016857\n",
      "sgoralnick                                           0.000550810713606\n",
      "*starlet*                                            0.000543889060531\n",
      "brynfoto                                             0.000536905156737\n",
      "liquid pixel                                         0.000529979918205\n",
      "noahstone                                            0.000517658021219\n",
      "isherwood                                            0.000516133458287\n",
      "Arno-MM                                              0.000513472966666\n",
      "scotsman0170                                         0.000508661271453\n",
      "WaveSpire                                            0.000507479510422\n",
      "tozzer                                               0.000501112336149\n",
      "...cathzilla                                         0.00049786514595\n",
      "cymagen                                              0.000495505457874\n",
      "ola_babe1                                            0.000494654807593\n",
      "DrJoanne                                             0.000488947747202\n",
      "pablokorona                                          0.000486682876206\n",
      "demouser                                             0.000486212851927\n",
      "jallive                                              0.000484262629846\n",
      "macebio                                              0.00048411279957\n",
      "marika b                                             0.000482783744172\n",
      "drp                                                  0.000480730748293\n",
      "Osvaldo                                              0.000479738112111\n",
      "Crea.tive                                            0.000478720696014\n",
      "sheldonschwartz                                      0.000475369730467\n",
      "virgu                                                0.000472349340854\n",
      "mehmetkale                                           0.000471911781431\n",
      "gucci1000                                            0.000469088929227\n",
      "Zewalt                                               0.000467449516631\n",
      "bernardo.borghetti                                   0.000462208675781\n",
      "notraces                                             0.000461906191837\n",
      "Grains And Light                                     0.000461140580931\n",
      "overshadowed                                         0.000459920704691\n",
      "neuskool                                             0.000459907106938\n",
      "pblgbp                                               0.000457228552059\n",
      "sillydog                                             0.000455977337199\n",
      "zaharoula                                            0.000452188738106\n",
      "mark daniel                                          0.000451604026057\n",
      "astrid~                                              0.000448466621621\n",
      "MrTopf                                               0.000446597048639\n",
      "spanier                                              0.000445252213162\n",
      "ricd                                                 0.000444599581579\n",
      "schani                                               0.000443137963045\n",
      "redmondbarry                                         0.000440922404676\n",
      "Mareen Fischinger                                    0.000440296630638\n",
      "grow-er                                              0.00043986899028\n",
      ".lush                                                0.000439614582899\n",
      "naftalina007                                         0.000438624199343\n"
     ]
    }
   ],
   "source": [
    "print_table_top_50(data, centralities[\"hubs\"])"
   ]
  },
  {
   "cell_type": "markdown",
   "metadata": {},
   "source": [
    "Top 50 Nodes by Authorities Score"
   ]
  },
  {
   "cell_type": "code",
   "execution_count": 8,
   "metadata": {
    "collapsed": false
   },
   "outputs": [
    {
     "name": "stdout",
     "output_type": "stream",
     "text": [
      "awfulsara                                            0.00339652885621\n",
      "drp                                                  0.00255993479745\n",
      "DrJoanne                                             0.00250711114245\n",
      "*Ivan*                                               0.00224604143983\n",
      "antimethod                                           0.00220053873489\n",
      "BombDog                                              0.00215780914846\n",
      "Simon Pais                                           0.00204474149824\n",
      "deborah lattimore                                    0.00182896126509\n",
      "cymagen                                              0.00176300080906\n",
      ":Nikola                                              0.00170858289198\n",
      "lorrainemd                                           0.00164976848217\n",
      "*starlet*                                            0.00160194813583\n",
      "aleyna                                               0.00160010255952\n",
      "artofgold                                            0.00146577993629\n",
      "notraces                                             0.00137519240679\n",
      "romanlily                                            0.00131934121392\n",
      "Pandarine                                            0.00130700897056\n",
      "Mylens                                               0.00129001994661\n",
      "Mareen Fischinger                                    0.00121194554301\n",
      "bernardo.borghetti                                   0.00120230686388\n",
      "gu@va                                                0.00111027611503\n",
      "Sexy Swedish Babe                                    0.00110088715337\n",
      "pbowers                                              0.00110067495347\n",
      ".lush                                                0.00108780704163\n",
      "Merina                                               0.00107618730393\n",
      "Esther_G                                             0.00105342556286\n",
      "slowernet                                            0.00104026513679\n",
      "CherryVega                                           0.00103186880421\n",
      "bex_ai                                               0.00101695644944\n",
      "nedrosen                                             0.00101552745324\n",
      "naftalina007                                         0.00101163788862\n",
      "Agridulce                                            0.00100955610499\n",
      "callipygian                                          0.000957457124393\n",
      "isherwood                                            0.000930975087876\n",
      "aircrash                                             0.000926287910007\n",
      "Lola The Car Chick                                   0.000920871763902\n",
      "liliths_nymph                                        0.000899784462392\n",
      "Solarman                                             0.00089239506596\n",
      "Ryou in the box                                      0.000886267009019\n",
      "pixietart                                            0.000886156154714\n",
      "Rachael D                                            0.000883714821028\n",
      "fd                                                   0.000865066856069\n",
      "macwagen                                             0.000863380104854\n",
      "underbunny                                           0.000855380024615\n",
      "* HoNe$t *                                           0.000853199718341\n",
      "kunja                                                0.000849294983346\n",
      "Home alone                                           0.000848002010041\n",
      "bekon                                                0.000841384510956\n",
      "tecgirl                                              0.000833030113479\n",
      "carf                                                 0.000829108021285\n"
     ]
    }
   ],
   "source": [
    "print_table_top_50(data, centralities[\"authorities\"])"
   ]
  },
  {
   "cell_type": "markdown",
   "metadata": {},
   "source": [
    "From the first prospective it seems that node Centrality Degree, PageRank and Authorities are showing pretty similar ranking on the network in opposite to Hubs. (at least on the top 50 ranked nodes)\n",
    "\n",
    "For more introspective insight on how the centrality measures are related to each other let's compute Kendal and  Spearman's rank correlation pairwise on obtained ranking of all nodes in the graph."
   ]
  },
  {
   "cell_type": "code",
   "execution_count": 9,
   "metadata": {
    "collapsed": true
   },
   "outputs": [],
   "source": [
    "def ranked_nodes(centrality):\n",
    "    return np.array(list(centrality.items()))[:, 1].argsort().argsort()"
   ]
  },
  {
   "cell_type": "markdown",
   "metadata": {},
   "source": [
    "Kendall Tau Rank correlation:"
   ]
  },
  {
   "cell_type": "code",
   "execution_count": 10,
   "metadata": {
    "collapsed": false
   },
   "outputs": [
    {
     "name": "stdout",
     "output_type": "stream",
     "text": [
      "Kendall PR vs degrees:                             0.716493779608\n",
      "Kendall PR vs authorities:                         0.52459581796\n",
      "Kendall PR vs hubs:                                0.303047531115\n",
      "Kendall degrees vs authorities:                    0.614092232394\n",
      "Kendall degrees vs hubs:                           0.487107495217\n",
      "Kendall authorities vs hubs:                       0.627134954516\n"
     ]
    }
   ],
   "source": [
    "keys = list(centralities.keys())\n",
    "for i in range(len(keys)):\n",
    "    for j in range(i+1, len(keys)):\n",
    "        if not i == j:\n",
    "            tau = scipy.stats.kendalltau(ranked_nodes(centralities[keys[i]]), \n",
    "                                         ranked_nodes(centralities[keys[j]])).correlation\n",
    "            print(\"Kendall {0} vs {1}:\".format(keys[i], keys[j]).ljust(50), tau)"
   ]
  },
  {
   "cell_type": "markdown",
   "metadata": {},
   "source": [
    "As we can see according to Kendall Tau Rank correlation coefficient the most correlated pair are: (degrees,PR), (authorities,hubs) and (degrees, authorities)\n"
   ]
  },
  {
   "cell_type": "markdown",
   "metadata": {},
   "source": [
    "Spearman's Rank correlation:"
   ]
  },
  {
   "cell_type": "code",
   "execution_count": 11,
   "metadata": {
    "collapsed": false
   },
   "outputs": [
    {
     "name": "stdout",
     "output_type": "stream",
     "text": [
      "Spearman's PR vs degrees:                          0.888668529917\n",
      "Spearman's PR vs authorities:                      0.685709233532\n",
      "Spearman's PR vs hubs:                             0.43877468112\n",
      "Spearman's degrees vs authorities:                 0.786748200317\n",
      "Spearman's degrees vs hubs:                        0.668046767441\n",
      "Spearman's authorities vs hubs:                    0.81142516835\n"
     ]
    }
   ],
   "source": [
    "keys = list(centralities.keys())\n",
    "for i in range(len(keys)):\n",
    "    for j in range(i+1, len(keys)):\n",
    "        if not i == j:\n",
    "\n",
    "            tau = scipy.stats.spearmanr(ranked_nodes(centralities[keys[i]]),\n",
    "                                         ranked_nodes(centralities[keys[j]])).correlation\n",
    "            print(\"Spearman's {0} vs {1}:\".format(keys[i],keys[j]).ljust(50), tau)\n"
   ]
  },
  {
   "cell_type": "markdown",
   "metadata": {},
   "source": [
    "As we can see according to Spearmans's Rank correlation coefficient the most correlated pair are: (degrees,PR), (authorities,hubs) and (degrees, authorities)\n",
    "\n",
    "The most correlated pairs according to Kendall and Spearman's correlations are the same."
   ]
  },
  {
   "cell_type": "markdown",
   "metadata": {},
   "source": [
    "### <hr /> Task 2"
   ]
  },
  {
   "cell_type": "markdown",
   "metadata": {},
   "source": [
    "Here are the [Facebook friendship graphs](https://www.hse.ru/data/2016/03/05/1125656999/universities.zip) from several US universities from 2005 (one year after fb launch).\n",
    "\n",
    "Data contains a A matrix (sparse) and a \"local_info\" variable, one row per node: \n",
    "a student/faculty status flag, gender, major, second major/minor (if applicable), dorm/house, year, and high school. \n",
    "Missing data is coded 0.\n",
    "\n",
    "Compute node degree assortativity (mixining by node degree) and assortativity coefficient (modularity) for gender, major, dormitory, year, high school for all universities and compare the results."
   ]
  },
  {
   "cell_type": "markdown",
   "metadata": {},
   "source": [
    "Let's build a networks graph models and fill it with required attributes:"
   ]
  },
  {
   "cell_type": "code",
   "execution_count": 16,
   "metadata": {
    "collapsed": false
   },
   "outputs": [],
   "source": [
    "def build_model(filename):\n",
    "    data = scipy.io.loadmat(\"universities/\" + filename + \".mat\")\n",
    "    G = nx.DiGraph(data[\"A\"])\n",
    "    attributes_dict = {\"gender\":1, \"major\":2, \"dormitory\":4, \"year\":5, \"high school\":6}\n",
    "    for attr in attributes_dict:\n",
    "        attr_vector = data[\"local_info\"][:, attributes_dict[attr]]\n",
    "        #  make a dictionary from vector and assign it to node attribute\n",
    "        nx.set_node_attributes(G, attr, dict(zip(range(len(attr_vector)),attr_vector)))\n",
    "    return G"
   ]
  },
  {
   "cell_type": "markdown",
   "metadata": {},
   "source": [
    "Build Assortativity Coefficients over all universities and attributes:"
   ]
  },
  {
   "cell_type": "code",
   "execution_count": null,
   "metadata": {
    "collapsed": false
   },
   "outputs": [],
   "source": [
    "universities = [\"Berkeley13\", \"Caltech36\", \"Harvard1\", \"Oklahoma97\", \"Princeton12\", \"Texas80\",]\n",
    "attributes = [\"gender\", \"major\", \"dormitory\", \"year\", \"high school\"]\n",
    "\n",
    "for u in universities:\n",
    "    G = build_model(u)\n",
    "    print(\"University:\".ljust(55),u)\n",
    "    print(\"Degree Assortativity Coefficient:\".ljust(55),nx.degree_assortativity_coefficient(G))\n",
    "    for attr in attributes:\n",
    "        print(\"Attribute {0} Assortativity Coefficient:\"\n",
    "              .format(attr).ljust(55),nx.attribute_assortativity_coefficient(G, attr))\n",
    "    print(\"\\n\")\n"
   ]
  },
  {
   "cell_type": "markdown",
   "metadata": {},
   "source": [
    "Assortativity coefficient show how likely are connected nodes with the equal attribute value.\n",
    "Actually, obtained data can say quite a lot as early Facebook friendship usually represents real life aquaintainces and depends on how people meet:\n",
    "\n",
    "High values of assortativity on Year and Dormitory is quite predictable since students meet on shared courses and on the same place of residency. However different universities have a different levels of assortativity and that numbers could give us an insight into the university's inner life: for example how much separated students are in the same dormitory.\n",
    "\n",
    "Assortativity of high school communities shows how much are maintained \"old\" school connections.\n"
   ]
  }
 ],
 "metadata": {
  "kernelspec": {
   "display_name": "Python 3",
   "language": "python",
   "name": "python3"
  },
  "language_info": {
   "codemirror_mode": {
    "name": "ipython",
    "version": 3
   },
   "file_extension": ".py",
   "mimetype": "text/x-python",
   "name": "python",
   "nbconvert_exporter": "python",
   "pygments_lexer": "ipython3",
   "version": "3.4.3"
  }
 },
 "nbformat": 4,
 "nbformat_minor": 0
}
